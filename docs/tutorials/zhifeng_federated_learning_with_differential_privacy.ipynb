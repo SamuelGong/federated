{
 "cells": [
  {
   "cell_type": "markdown",
   "metadata": {
    "id": "1YRGLD1pOOrJ"
   },
   "source": [
    "##### Copyright 2021 The TensorFlow Federated Authors."
   ]
  },
  {
   "cell_type": "code",
   "execution_count": 1,
   "metadata": {
    "cellView": "form",
    "id": "koW3R4ntOgLS"
   },
   "outputs": [],
   "source": [
    "#@title Licensed under the Apache License, Version 2.0 (the \"License\");\n",
    "# you may not use this file except in compliance with the License.\n",
    "# You may obtain a copy of the License at\n",
    "#\n",
    "# https://www.apache.org/licenses/LICENSE-2.0\n",
    "#\n",
    "# Unless required by applicable law or agreed to in writing, software\n",
    "# distributed under the License is distributed on an \"AS IS\" BASIS,\n",
    "# WITHOUT WARRANTIES OR CONDITIONS OF ANY KIND, either express or implied.\n",
    "# See the License for the specific language governing permissions and\n",
    "# limitations under the License."
   ]
  },
  {
   "cell_type": "markdown",
   "metadata": {
    "id": "coAumH42q9nz"
   },
   "source": [
    "<table class=\"tfo-notebook-buttons\" align=\"left\">\n",
    "  <td>\n",
    "    <a target=\"_blank\" href=\"https://www.tensorflow.org/federated/tutorials/federated_learning_with_differential_privacy\"><img src=\"https://www.tensorflow.org/images/tf_logo_32px.png\" />View on TensorFlow.org</a>\n",
    "  </td>\n",
    "  <td>\n",
    "    <a target=\"_blank\" href=\"https://colab.research.google.com/github/tensorflow/federated/blob/v0.52.0/docs/tutorials/federated_learning_with_differential_privacy.ipynb\"><img src=\"https://www.tensorflow.org/images/colab_logo_32px.png\" />Run in Google Colab</a>\n",
    "  </td>\n",
    "  <td>\n",
    "    <a target=\"_blank\" href=\"https://github.com/tensorflow/federated/blob/v0.52.0/docs/tutorials/federated_learning_with_differential_privacy.ipynb\"><img src=\"https://www.tensorflow.org/images/GitHub-Mark-32px.png\" />View source on GitHub</a>\n",
    "  </td>\n",
    "  <td>\n",
    "    <a href=\"https://storage.googleapis.com/tensorflow_docs/federated/docs/tutorials/federated_learning_with_differential_privacy.ipynb\"><img src=\"https://www.tensorflow.org/images/download_logo_32px.png\" />Download notebook</a>\n",
    "  </td>\n",
    "</table>"
   ]
  },
  {
   "cell_type": "markdown",
   "metadata": {
    "id": "grBmytrShbUE"
   },
   "source": [
    "# Differential Privacy in TFF\n",
    "\n",
    "This tutorial will demonstrate the recommended best practice for training models with user-level Differential Privacy using Tensorflow Federated. We will use the DP-SGD algorithm of [Abadi et al., \"Deep Learning with Differential Privacy\"](https://arxiv.org/abs/1607.00133) modified for user-level DP in a federated context in [McMahan et al., \"Learning Differentially Private Recurrent Language Models\"](https://arxiv.org/abs/1710.06963).\n",
    "\n",
    "Differential Privacy (DP) is a widely used method for bounding and quantifying the privacy leakage of sensitive data when performing learning tasks. Training a model with user-level DP guarantees that the model is unlikely to learn anything significant about the data of any individual, but can still (hopefully!) learn patterns that exist in the data of many clients.\n",
    "\n",
    "We will train a model on the federated EMNIST dataset. There is an inherent trade-off between utility and privacy, and it may be difficult to train a model with high privacy that performs as well as a state-of-the-art non-private model. For expediency in this tutorial, we will train for just 100 rounds, sacrificing some quality in order to demonstrate how to train with high privacy. If we used more training rounds, we could certainly have a somewhat higher-accuracy private model, but not as high as a model trained without DP."
   ]
  },
  {
   "cell_type": "markdown",
   "metadata": {
    "id": "yiq_MY4LopET"
   },
   "source": [
    "## Before we begin\n",
    "\n",
    "First, let us make sure the notebook is connected to a backend that has the relevant components compiled. "
   ]
  },
  {
   "cell_type": "code",
   "execution_count": 2,
   "metadata": {
    "id": "ke7EyuvG0Zyn"
   },
   "outputs": [],
   "source": [
    "#@test {\"skip\": true}\n",
    "# !pip install --quiet --upgrade dp-accounting\n",
    "# !pip install --quiet --upgrade tensorflow-federated\n",
    "# !pip install --quiet --upgrade nest-asyncio\n",
    "\n",
    "import nest_asyncio\n",
    "nest_asyncio.apply()"
   ]
  },
  {
   "cell_type": "markdown",
   "metadata": {
    "id": "Cmp7VMf15aSu"
   },
   "source": [
    "Some imports we will need for the tutorial. We will use `tensorflow_federated`, the open-source framework for machine learning and other computations on decentralized data, as well as `dp_accounting`, an open-source library for analyzing differentially private algorithms."
   ]
  },
  {
   "cell_type": "code",
   "execution_count": 3,
   "metadata": {
    "id": "rtgStTrNIId-"
   },
   "outputs": [
    {
     "name": "stderr",
     "output_type": "stream",
     "text": [
      "2023-03-24 17:01:27.965551: I tensorflow/core/platform/cpu_feature_guard.cc:193] This TensorFlow binary is optimized with oneAPI Deep Neural Network Library (oneDNN) to use the following CPU instructions in performance-critical operations:  AVX2 AVX512F FMA\n",
      "To enable them in other operations, rebuild TensorFlow with the appropriate compiler flags.\n",
      "2023-03-24 17:01:28.862611: W tensorflow/compiler/xla/stream_executor/platform/default/dso_loader.cc:64] Could not load dynamic library 'libcudart.so.11.0'; dlerror: libcudart.so.11.0: cannot open shared object file: No such file or directory\n",
      "2023-03-24 17:01:28.862640: I tensorflow/compiler/xla/stream_executor/cuda/cudart_stub.cc:29] Ignore above cudart dlerror if you do not have a GPU set up on your machine.\n",
      "2023-03-24 17:01:30.904513: W tensorflow/compiler/xla/stream_executor/platform/default/dso_loader.cc:64] Could not load dynamic library 'libnvinfer.so.7'; dlerror: libnvinfer.so.7: cannot open shared object file: No such file or directory\n",
      "2023-03-24 17:01:30.904622: W tensorflow/compiler/xla/stream_executor/platform/default/dso_loader.cc:64] Could not load dynamic library 'libnvinfer_plugin.so.7'; dlerror: libnvinfer_plugin.so.7: cannot open shared object file: No such file or directory\n",
      "2023-03-24 17:01:30.904631: W tensorflow/compiler/tf2tensorrt/utils/py_utils.cc:38] TF-TRT Warning: Cannot dlopen some TensorRT libraries. If you would like to use Nvidia GPU with TensorRT, please make sure the missing libraries mentioned above are installed properly.\n"
     ]
    }
   ],
   "source": [
    "import collections\n",
    "\n",
    "import dp_accounting\n",
    "import numpy as np\n",
    "import pandas as pd\n",
    "import tensorflow as tf\n",
    "import tensorflow_federated as tff"
   ]
  },
  {
   "cell_type": "markdown",
   "metadata": {
    "id": "X6eWsahmQpmi"
   },
   "source": [
    "Run the following \"Hello World\"\n",
    "example to make sure the TFF environment is correctly setup. If it doesn't work,\n",
    "please refer to the [Installation](../install.md) guide for instructions."
   ]
  },
  {
   "cell_type": "code",
   "execution_count": 4,
   "metadata": {
    "id": "wjX3wmC-P1aE",
    "outputId": "b3e2cf36-a8f0-42af-84f0-24affeaad54a"
   },
   "outputs": [
    {
     "name": "stderr",
     "output_type": "stream",
     "text": [
      "2023-03-24 17:01:35.282532: W tensorflow/compiler/xla/stream_executor/platform/default/dso_loader.cc:64] Could not load dynamic library 'libcuda.so.1'; dlerror: libcuda.so.1: cannot open shared object file: No such file or directory\n",
      "2023-03-24 17:01:35.282570: W tensorflow/compiler/xla/stream_executor/cuda/cuda_driver.cc:265] failed call to cuInit: UNKNOWN ERROR (303)\n",
      "2023-03-24 17:01:35.282596: I tensorflow/compiler/xla/stream_executor/cuda/cuda_diagnostics.cc:156] kernel driver does not appear to be running on this host (ip-172-31-38-117): /proc/driver/nvidia/version does not exist\n",
      "2023-03-24 17:01:35.283639: I tensorflow/core/grappler/clusters/single_machine.cc:358] Starting new session\n",
      "2023-03-24 17:01:35.285686: I tensorflow/core/platform/cpu_feature_guard.cc:193] This TensorFlow binary is optimized with oneAPI Deep Neural Network Library (oneDNN) to use the following CPU instructions in performance-critical operations:  AVX2 AVX512F FMA\n",
      "To enable them in other operations, rebuild TensorFlow with the appropriate compiler flags.\n"
     ]
    },
    {
     "data": {
      "text/plain": [
       "b'Hello, World!'"
      ]
     },
     "execution_count": 4,
     "metadata": {},
     "output_type": "execute_result"
    }
   ],
   "source": [
    "@tff.federated_computation\n",
    "def hello_world():\n",
    "  return 'Hello, World!'\n",
    "\n",
    "hello_world()"
   ]
  },
  {
   "cell_type": "markdown",
   "metadata": {
    "id": "A8xl6I2X9ObS"
   },
   "source": [
    "## Download and preprocess the federated EMNIST dataset."
   ]
  },
  {
   "cell_type": "code",
   "execution_count": 5,
   "metadata": {
    "id": "EdY72mGKJqi0"
   },
   "outputs": [
    {
     "name": "stdout",
     "output_type": "stream",
     "text": [
      "WARNING:tensorflow:From /home/ubuntu/anaconda3/envs/tff/lib/python3.9/site-packages/tensorflow/python/autograph/pyct/static_analysis/liveness.py:83: Analyzer.lamba_check (from tensorflow.python.autograph.pyct.static_analysis.liveness) is deprecated and will be removed after 2023-09-23.\n",
      "Instructions for updating:\n",
      "Lambda fuctions will be no more assumed to be used in the statement where they are used, or at least in the same block. https://github.com/tensorflow/tensorflow/issues/56089\n"
     ]
    },
    {
     "name": "stderr",
     "output_type": "stream",
     "text": [
      "WARNING:tensorflow:From /home/ubuntu/anaconda3/envs/tff/lib/python3.9/site-packages/tensorflow/python/autograph/pyct/static_analysis/liveness.py:83: Analyzer.lamba_check (from tensorflow.python.autograph.pyct.static_analysis.liveness) is deprecated and will be removed after 2023-09-23.\n",
      "Instructions for updating:\n",
      "Lambda fuctions will be no more assumed to be used in the statement where they are used, or at least in the same block. https://github.com/tensorflow/tensorflow/issues/56089\n"
     ]
    }
   ],
   "source": [
    "only_digits = False\n",
    "\n",
    "def get_emnist_dataset():\n",
    "  emnist_train, emnist_test = tff.simulation.datasets.emnist.load_data(\n",
    "      only_digits=only_digits)\n",
    "\n",
    "  def element_fn(element):\n",
    "    return collections.OrderedDict(\n",
    "        x=tf.expand_dims(element['pixels'], -1), y=element['label'])\n",
    "\n",
    "  def preprocess_train_dataset(dataset):\n",
    "    # Use buffer_size same as the maximum client dataset size,\n",
    "    # 418 for Federated EMNIST\n",
    "    return (dataset.map(element_fn)\n",
    "                   .shuffle(buffer_size=418)\n",
    "                   .repeat(1)\n",
    "                   .batch(20, drop_remainder=False))\n",
    "#                    .batch(32, drop_remainder=False))\n",
    "\n",
    "  def preprocess_test_dataset(dataset):\n",
    "    return dataset.map(element_fn).batch(128, drop_remainder=False)\n",
    "\n",
    "  emnist_train = emnist_train.preprocess(preprocess_train_dataset)\n",
    "  emnist_test = preprocess_test_dataset(\n",
    "      emnist_test.create_tf_dataset_from_all_clients())\n",
    "  return emnist_train, emnist_test\n",
    "\n",
    "train_data, test_data = get_emnist_dataset()"
   ]
  },
  {
   "cell_type": "markdown",
   "metadata": {
    "id": "3ntJ5coIJxS2"
   },
   "source": [
    "## Define our model."
   ]
  },
  {
   "cell_type": "code",
   "execution_count": 6,
   "metadata": {
    "id": "YK_UGq_0KGMX"
   },
   "outputs": [],
   "source": [
    "seed = 1\n",
    "data_format = 'channels_last'\n",
    "initializer = tf.keras.initializers.GlorotUniform(seed=seed)\n",
    "\n",
    "def my_model_fn():\n",
    "  model = tf.keras.models.Sequential([\n",
    "      tf.keras.layers.Conv2D(\n",
    "          32,\n",
    "          kernel_size=(3, 3),\n",
    "          activation='relu',\n",
    "          data_format=data_format,\n",
    "          input_shape=(28, 28, 1),\n",
    "          kernel_initializer=initializer),\n",
    "      tf.keras.layers.MaxPool2D(pool_size=(2, 2), data_format=data_format),\n",
    "      tf.keras.layers.Conv2D(\n",
    "          64,\n",
    "          kernel_size=(3, 3),\n",
    "          activation='relu',\n",
    "          data_format=data_format,\n",
    "          kernel_initializer=initializer),\n",
    "      tf.keras.layers.Dropout(0.25),\n",
    "      tf.keras.layers.Flatten(),\n",
    "      tf.keras.layers.Dense(\n",
    "          128, activation='relu', kernel_initializer=initializer),\n",
    "      tf.keras.layers.Dropout(0.5),\n",
    "      tf.keras.layers.Dense(\n",
    "          10 if only_digits else 62,\n",
    "          activation=tf.nn.softmax,\n",
    "          kernel_initializer=initializer),\n",
    "  ])\n",
    "#       tf.keras.layers.Reshape(input_shape=(28, 28, 1), target_shape=(28 * 28,)),\n",
    "#       tf.keras.layers.Dense(200, activation=tf.nn.relu),\n",
    "#       tf.keras.layers.Dense(200, activation=tf.nn.relu),\n",
    "#       tf.keras.layers.Dense(10)])\n",
    "  return tff.learning.models.from_keras_model(\n",
    "      keras_model=model,\n",
    "      loss=tf.keras.losses.SparseCategoricalCrossentropy(from_logits=True),\n",
    "      input_spec=test_data.element_spec,\n",
    "      metrics=[tf.keras.metrics.SparseCategoricalAccuracy()])"
   ]
  },
  {
   "cell_type": "markdown",
   "metadata": {
    "id": "-2jnGd-CKTYW"
   },
   "source": [
    "## Determine the noise sensitivity of the model.\n",
    "\n",
    "To get user-level DP guarantees, we must change the basic Federated Averaging algorithm in two ways. First, the clients' model updates must be clipped before transmission to the server, bounding the maximum influence of any one client. Second, the server must add enough noise to the sum of user updates before averaging to obscure the worst-case client influence.\n",
    "\n",
    "For clipping, we use the adaptive clipping method of [Andrew et al. 2021, Differentially Private Learning with Adaptive Clipping](https://arxiv.org/abs/1905.03871), so no clipping norm needs to be explicitly set.\n",
    "\n",
    "Adding noise will in general degrade the utility of the model, but we can control the amount of noise in the average update at each round with two knobs: the standard deviation of the Gaussian noise added to the sum, and the number of clients in the average. Our strategy will be to first determine how much noise the model can tolerate with a relatively small number of clients per round with acceptable loss to model utility. Then to train the final model, we can increase the amount of noise in the sum, while proportionally scaling up the number of clients per round (assuming the dataset is large enough to support that many clients per round). This is unlikely to significantly affect model quality, since the only effect is to decrease variance due to client sampling (indeed we will verify that it does not in our case).\n",
    "\n",
    "To that end, we first train a series of models with 50 clients per round, with increasing amounts of noise. Specifically, we increase the \"noise_multiplier\" which is the ratio of the noise standard deviation to the clipping norm. Since we are using adaptive clipping, this means that the actual magnitude of the noise changes from round to round."
   ]
  },
  {
   "cell_type": "code",
   "execution_count": 7,
   "metadata": {
    "id": "6-BZ_L4GMmXP"
   },
   "outputs": [],
   "source": [
    "total_clients = len(train_data.client_ids)\n",
    "clients_per_thread = 1\n",
    "# clients_per_thread = 5\n",
    "# tff.backends.native.set_sync_local_cpp_execution_context(\n",
    "#     max_concurrent_computation_calls=total_clients / clients_per_thread)\n",
    "\n",
    "def train(rounds, noise_multiplier, clients_per_round, data_frame):\n",
    "  # Using the `dp_aggregator` here turns on differential privacy with adaptive\n",
    "  # clipping.\n",
    "  aggregation_factory = tff.learning.model_update_aggregator.dp_aggregator(\n",
    "      noise_multiplier, clients_per_round)\n",
    "\n",
    "  # We use Poisson subsampling which gives slightly tighter privacy guarantees\n",
    "  # compared to having a fixed number of clients per round. The actual number of\n",
    "  # clients per round is stochastic with mean clients_per_round.\n",
    "  sampling_prob = clients_per_round / total_clients\n",
    "\n",
    "  # Build a federated averaging process.\n",
    "  # Typically a non-adaptive server optimizer is used because the noise in the\n",
    "  # updates can cause the second moment accumulators to become very large\n",
    "  # prematurely.\n",
    "  learning_process = tff.learning.algorithms.build_unweighted_fed_avg(\n",
    "        my_model_fn,\n",
    "#         client_optimizer_fn=lambda: tf.keras.optimizers.SGD(0.01),\n",
    "        client_optimizer_fn=lambda: tf.keras.optimizers.SGD(0.01, momentum=0.9),\n",
    "#         server_optimizer_fn=lambda: tf.keras.optimizers.SGD(1.0, momentum=0.9),\n",
    "        server_optimizer_fn=lambda: tf.keras.optimizers.SGD(1.0),\n",
    "        model_aggregator=aggregation_factory)\n",
    "\n",
    "  eval_process = tff.learning.build_federated_evaluation(my_model_fn)\n",
    "    \n",
    "  # Training loop.\n",
    "  state = learning_process.initialize()\n",
    "  for round in range(rounds):\n",
    "    if round % 5 == 0:\n",
    "      model_weights = learning_process.get_model_weights(state)\n",
    "      metrics = eval_process(model_weights, [test_data])['eval']\n",
    "      if round % 10 == 0:\n",
    "#       if round < 25 or round % 25 == 0:\n",
    "        print(f'Round {round:3d}: {metrics}')\n",
    "      data_frame = data_frame.append({'Round': round,\n",
    "                                      'NoiseMultiplier': noise_multiplier,\n",
    "                                      **metrics}, ignore_index=True)\n",
    "\n",
    "    # Sample clients for a round. Note that if your dataset is large and\n",
    "    # sampling_prob is small, it would be faster to use gap sampling.\n",
    "    x = np.random.uniform(size=total_clients)\n",
    "    sampled_clients = [\n",
    "        train_data.client_ids[i] for i in range(total_clients)\n",
    "        if x[i] < sampling_prob]\n",
    "    sampled_train_data = [\n",
    "        train_data.create_tf_dataset_for_client(client)\n",
    "        for client in sampled_clients]\n",
    "\n",
    "    # Use selected clients for update.\n",
    "    result = learning_process.next(state, sampled_train_data)\n",
    "    state = result.state\n",
    "    metrics = result.metrics\n",
    "\n",
    "  model_weights = learning_process.get_model_weights(state)\n",
    "  metrics = eval_process(model_weights, [test_data])['eval']\n",
    "  print(f'Round {rounds:3d}: {metrics}')\n",
    "  data_frame = data_frame.append({'Round': rounds,\n",
    "                                  'NoiseMultiplier': noise_multiplier,\n",
    "                                  **metrics}, ignore_index=True)\n",
    "\n",
    "  return data_frame\n"
   ]
  },
  {
   "cell_type": "code",
   "execution_count": null,
   "metadata": {
    "id": "qcaBxl0AbLTQ",
    "outputId": "22cdad6b-3ce2-4db0-b0be-ba1fe9599f8c"
   },
   "outputs": [
    {
     "name": "stdout",
     "output_type": "stream",
     "text": [
      "Starting training with noise multiplier: 0.0\n"
     ]
    },
    {
     "name": "stderr",
     "output_type": "stream",
     "text": [
      "/tmp/ipykernel_1384/1598450642.py:30: DeprecationWarning: `tff.learning.build_federated_evaluation` is deprecated, use `tff.learning.algorithms.build_fed_eval` instead.\n",
      "  eval_process = tff.learning.build_federated_evaluation(my_model_fn)\n",
      "2023-03-24 17:01:43.271775: I tensorflow/core/grappler/clusters/single_machine.cc:358] Starting new session\n",
      "2023-03-24 17:01:43.370298: I tensorflow/core/grappler/clusters/single_machine.cc:358] Starting new session\n",
      "2023-03-24 17:01:43.377279: I tensorflow/core/grappler/clusters/single_machine.cc:358] Starting new session\n",
      "2023-03-24 17:01:43.385665: I tensorflow/core/grappler/clusters/single_machine.cc:358] Starting new session\n",
      "2023-03-24 17:01:43.410674: I tensorflow/core/grappler/clusters/single_machine.cc:358] Starting new session\n",
      "2023-03-24 17:01:43.444398: I tensorflow/core/grappler/clusters/single_machine.cc:358] Starting new session\n",
      "2023-03-24 17:01:43.457715: I tensorflow/core/grappler/clusters/single_machine.cc:358] Starting new session\n",
      "2023-03-24 17:01:43.638852: I tensorflow/core/grappler/clusters/single_machine.cc:358] Starting new session\n",
      "2023-03-24 17:01:43.828600: I tensorflow/core/grappler/clusters/single_machine.cc:358] Starting new session\n",
      "2023-03-24 17:01:43.903292: I tensorflow/core/grappler/clusters/single_machine.cc:358] Starting new session\n",
      "2023-03-24 17:01:43.911315: I tensorflow/core/grappler/clusters/single_machine.cc:358] Starting new session\n",
      "2023-03-24 17:01:43.921255: I tensorflow/core/grappler/clusters/single_machine.cc:358] Starting new session\n",
      "2023-03-24 17:01:43.939731: I tensorflow/core/grappler/clusters/single_machine.cc:358] Starting new session\n"
     ]
    },
    {
     "name": "stdout",
     "output_type": "stream",
     "text": [
      "Round   0: OrderedDict([('sparse_categorical_accuracy', 0.026831692), ('loss', 4.126576), ('num_examples', 77483), ('num_batches', 606)])\n"
     ]
    },
    {
     "name": "stderr",
     "output_type": "stream",
     "text": [
      "/tmp/ipykernel_1384/1598450642.py:41: FutureWarning: The frame.append method is deprecated and will be removed from pandas in a future version. Use pandas.concat instead.\n",
      "  data_frame = data_frame.append({'Round': round,\n",
      "2023-03-24 17:02:00.418745: I tensorflow/core/grappler/clusters/single_machine.cc:358] Starting new session\n",
      "2023-03-24 17:02:00.593713: I tensorflow/core/grappler/clusters/single_machine.cc:358] Starting new session\n",
      "2023-03-24 17:02:00.600799: I tensorflow/core/grappler/clusters/single_machine.cc:358] Starting new session\n",
      "2023-03-24 17:02:00.609751: I tensorflow/core/grappler/clusters/single_machine.cc:358] Starting new session\n",
      "2023-03-24 17:02:00.623273: I tensorflow/core/grappler/clusters/single_machine.cc:358] Starting new session\n",
      "2023-03-24 17:02:00.643344: I tensorflow/core/grappler/clusters/single_machine.cc:358] Starting new session\n",
      "2023-03-24 17:02:00.655734: I tensorflow/core/grappler/clusters/single_machine.cc:358] Starting new session\n",
      "2023-03-24 17:02:00.693633: I tensorflow/core/grappler/clusters/single_machine.cc:358] Starting new session\n",
      "2023-03-24 17:02:00.700842: I tensorflow/core/grappler/clusters/single_machine.cc:358] Starting new session\n",
      "2023-03-24 17:02:00.709360: I tensorflow/core/grappler/clusters/single_machine.cc:358] Starting new session\n",
      "2023-03-24 17:02:00.713530: I tensorflow/core/grappler/clusters/single_machine.cc:358] Starting new session\n",
      "2023-03-24 17:02:00.719018: I tensorflow/core/grappler/clusters/single_machine.cc:358] Starting new session\n",
      "2023-03-24 17:02:00.725956: I tensorflow/core/grappler/clusters/single_machine.cc:358] Starting new session\n",
      "2023-03-24 17:02:00.734778: I tensorflow/core/grappler/clusters/single_machine.cc:358] Starting new session\n",
      "2023-03-24 17:02:00.747611: I tensorflow/core/grappler/clusters/single_machine.cc:358] Starting new session\n",
      "2023-03-24 17:02:00.779315: I tensorflow/core/grappler/clusters/single_machine.cc:358] Starting new session\n",
      "2023-03-24 17:02:00.794511: I tensorflow/core/grappler/clusters/single_machine.cc:358] Starting new session\n",
      "2023-03-24 17:02:00.816268: I tensorflow/core/grappler/clusters/single_machine.cc:358] Starting new session\n",
      "2023-03-24 17:02:00.844170: I tensorflow/core/grappler/clusters/single_machine.cc:358] Starting new session\n",
      "2023-03-24 17:02:00.873876: I tensorflow/core/grappler/clusters/single_machine.cc:358] Starting new session\n",
      "2023-03-24 17:02:00.877298: I tensorflow/core/grappler/clusters/single_machine.cc:358] Starting new session\n",
      "2023-03-24 17:02:00.883126: I tensorflow/core/grappler/clusters/single_machine.cc:358] Starting new session\n",
      "2023-03-24 17:02:00.885423: I tensorflow/core/grappler/clusters/single_machine.cc:358] Starting new session\n",
      "2023-03-24 17:02:00.889988: I tensorflow/core/grappler/clusters/single_machine.cc:358] Starting new session\n",
      "2023-03-24 17:02:00.917684: I tensorflow/core/grappler/clusters/single_machine.cc:358] Starting new session\n",
      "/tmp/ipykernel_1384/1598450642.py:41: FutureWarning: The frame.append method is deprecated and will be removed from pandas in a future version. Use pandas.concat instead.\n",
      "  data_frame = data_frame.append({'Round': round,\n"
     ]
    },
    {
     "name": "stdout",
     "output_type": "stream",
     "text": [
      "Round  10: OrderedDict([('sparse_categorical_accuracy', 0.047003858), ('loss', 4.1251435), ('num_examples', 77483), ('num_batches', 606)])\n"
     ]
    },
    {
     "name": "stderr",
     "output_type": "stream",
     "text": [
      "/tmp/ipykernel_1384/1598450642.py:41: FutureWarning: The frame.append method is deprecated and will be removed from pandas in a future version. Use pandas.concat instead.\n",
      "  data_frame = data_frame.append({'Round': round,\n"
     ]
    }
   ],
   "source": [
    "data_frame = pd.DataFrame()\n",
    "rounds = 150\n",
    "clients_per_round = 100\n",
    "# rounds = 100\n",
    "# clients_per_round = 50\n",
    "\n",
    "for noise_multiplier in [0.0]:\n",
    "# for noise_multiplier in [0.0, 0.5, 0.75, 1.0]:\n",
    "  print(f'Starting training with noise multiplier: {noise_multiplier}')\n",
    "  data_frame = train(rounds, noise_multiplier, clients_per_round, data_frame)\n",
    "  print()"
   ]
  },
  {
   "cell_type": "markdown",
   "metadata": {
    "id": "x8h5cZ2OUmUF"
   },
   "source": [
    "Now we can visualize the evaluation set accuracy and loss of those runs."
   ]
  },
  {
   "cell_type": "code",
   "execution_count": null,
   "metadata": {
    "id": "EHKzgJiQSxAE"
   },
   "outputs": [],
   "source": [
    "import matplotlib.pyplot as plt\n",
    "import seaborn as sns\n",
    "\n",
    "def make_plot(data_frame):\n",
    "  plt.figure(figsize=(15, 5))\n",
    "\n",
    "  dff = data_frame.rename(\n",
    "      columns={'sparse_categorical_accuracy': 'Accuracy', 'loss': 'Loss'})\n",
    "\n",
    "  plt.subplot(121)\n",
    "  sns.lineplot(data=dff, x='Round', y='Accuracy', hue='NoiseMultiplier', palette='dark')\n",
    "  plt.subplot(122)\n",
    "  sns.lineplot(data=dff, x='Round', y='Loss', hue='NoiseMultiplier', palette='dark')"
   ]
  },
  {
   "cell_type": "code",
   "execution_count": null,
   "metadata": {
    "id": "xiF8a2XxMt_8",
    "outputId": "dee18ef1-abca-40df-8bce-2d8eb6959d32"
   },
   "outputs": [],
   "source": [
    "make_plot(data_frame)"
   ]
  },
  {
   "cell_type": "markdown",
   "metadata": {
    "id": "3jeTMaZ5MunO"
   },
   "source": [
    "It appears that with 50 expected clients per round, this model can tolerate a noise multiplier of up to 0.5 without degrading model quality. A noise multiplier of 0.75 seems to cause a bit of model degradation, and 1.0 makes the model diverge.\n",
    "\n",
    "There is typically a tradeoff between model quality and privacy. The higher noise we use, the more privacy we can get for the same amount of training time and number of clients. Conversely, with less noise, we may have a more accurate model, but we'll have to train with more clients per round to reach our target privacy level.\n",
    "\n",
    "With the experiment above, we might decide that the small amount of model deterioration at 0.75 is acceptable in order to train the final model faster, but let's assume we want to match the performance of the 0.5 noise-multiplier model.\n",
    "\n",
    "Now we can use dp_accounting functions to determine how many expected clients per round we would need to get acceptable privacy. Standard practice is to choose delta somewhat smaller than one over the number of records in the dataset. This dataset has 3383 total training users, so let's aim for (2, 1e-5)-DP.\n",
    "\n",
    "We use `dp_accounting.calibrate_dp_mechanism` to search over the number of clients per round. The privacy accountant (`RdpAccountant`) we use to estimate privacy given a `dp_accounting.DpEvent` is based on [Wang et al. (2018)](https://arxiv.org/abs/1808.00087) and [Mironov et al. (2019)](https://arxiv.org/pdf/1908.10530.pdf)."
   ]
  },
  {
   "cell_type": "code",
   "execution_count": null,
   "metadata": {
    "executionInfo": {
     "elapsed": 3437,
     "status": "ok",
     "timestamp": 1671496851266,
     "user": {
      "displayName": "",
      "userId": ""
     },
     "user_tz": 480
    },
    "id": "QDMUmKWKXAMB",
    "outputId": "d32d504f-2108-41c7-9b4e-ac07e238985d"
   },
   "outputs": [],
   "source": [
    "total_clients = 3383\n",
    "noise_to_clients_ratio = 0.01\n",
    "target_delta = 1e-5\n",
    "target_eps = 2\n",
    "\n",
    "# Initialize arguments to dp_accounting.calibrate_dp_mechanism.\n",
    "\n",
    "# No-arg callable that returns a fresh accountant.\n",
    "make_fresh_accountant = dp_accounting.rdp.RdpAccountant\n",
    "\n",
    "# Create function that takes expected clients per round and returns a \n",
    "# dp_accounting.DpEvent representing the full training process.\n",
    "def make_event_from_param(clients_per_round):\n",
    "  q = clients_per_round / total_clients\n",
    "  noise_multiplier = clients_per_round * noise_to_clients_ratio\n",
    "  gaussian_event = dp_accounting.GaussianDpEvent(noise_multiplier)\n",
    "  sampled_event = dp_accounting.PoissonSampledDpEvent(q, gaussian_event)\n",
    "  composed_event = dp_accounting.SelfComposedDpEvent(sampled_event, rounds)\n",
    "  return composed_event\n",
    "\n",
    "# Create object representing the search range [1, 3383].\n",
    "bracket_interval = dp_accounting.ExplicitBracketInterval(1, total_clients)\n",
    "\n",
    "# Perform search for smallest clients_per_round achieving the target privacy.\n",
    "clients_per_round = dp_accounting.calibrate_dp_mechanism(\n",
    "    make_fresh_accountant, make_event_from_param, target_eps, target_delta,\n",
    "    bracket_interval, discrete=True\n",
    ")\n",
    "\n",
    "noise_multiplier = clients_per_round * noise_to_clients_ratio\n",
    "print(f'To get ({target_eps}, {target_delta})-DP, use {clients_per_round} '\n",
    "      f'clients with noise multiplier {noise_multiplier}.')"
   ]
  },
  {
   "cell_type": "markdown",
   "metadata": {
    "id": "ExhsP4nxiaok"
   },
   "source": [
    "Now we can train our final private model for release.\n"
   ]
  },
  {
   "cell_type": "code",
   "execution_count": null,
   "metadata": {
    "id": "aIacNzuxibOB",
    "outputId": "28fa2cc5-b760-4856-d9bc-1bbd8450f5fd"
   },
   "outputs": [],
   "source": [
    "rounds = 100\n",
    "noise_multiplier = 1.2\n",
    "clients_per_round = 120\n",
    "\n",
    "data_frame = pd.DataFrame()\n",
    "data_frame = train(rounds, noise_multiplier, clients_per_round, data_frame)\n",
    "\n",
    "make_plot(data_frame)"
   ]
  },
  {
   "cell_type": "markdown",
   "metadata": {
    "id": "w-N7cvpVkFR6"
   },
   "source": [
    "As we can see, the final model has similar loss and accuracy to the model trained without noise, but this one satisfies (2, 1e-5)-DP."
   ]
  }
 ],
 "metadata": {
  "colab": {
   "name": "federated_learning_with_differential_privacy.ipynb",
   "provenance": [],
   "toc_visible": true
  },
  "kernelspec": {
   "display_name": "Python (tff)",
   "language": "python",
   "name": "tff"
  },
  "language_info": {
   "codemirror_mode": {
    "name": "ipython",
    "version": 3
   },
   "file_extension": ".py",
   "mimetype": "text/x-python",
   "name": "python",
   "nbconvert_exporter": "python",
   "pygments_lexer": "ipython3",
   "version": "3.9.16"
  }
 },
 "nbformat": 4,
 "nbformat_minor": 1
}
